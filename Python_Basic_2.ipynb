{
 "cells": [
  {
   "cell_type": "raw",
   "id": "8c04578d-1f03-47f5-ae56-a6803f93a7d5",
   "metadata": {},
   "source": [
    "QUESTION_1\n",
    "\n",
    "Create two int type variables, apply addition, subtraction, division and multiplications\n",
    "and store the results in variables. Then print the data in the following format by calling the\n",
    "variables:\n",
    "First variable is __ & second variable is __.\n",
    "Addition: __ + __ = __\n",
    "Subtraction: __ - __ = __\n",
    "Multiplication: __ * __ = __\n",
    "Division: __ / __ = __"
   ]
  },
  {
   "cell_type": "code",
   "execution_count": 1,
   "id": "531e9eb1-0d88-40fb-bde9-220f6dc332d8",
   "metadata": {},
   "outputs": [
    {
     "name": "stdout",
     "output_type": "stream",
     "text": [
      "First variable is: 3 & second variable is: 2\n",
      "Addition: 3 + 2 = 5\n",
      "Suntraction: 3 - 2 = 1\n",
      "Multiplication: 3 * 2 = 6\n",
      "Division: 3 / 2 = 1.5\n"
     ]
    }
   ],
   "source": [
    "a = int(3)\n",
    "b = int(2)\n",
    "\n",
    "add = a + b\n",
    "sub = a - b\n",
    "mul = a * b\n",
    "div = a / b\n",
    "\n",
    "print(\"First variable is:\", a, \"& second variable is:\", b)\n",
    "print(\"Addition:\", a, \"+\", b, \"=\", add)\n",
    "print(\"Suntraction:\", a, \"-\", b, \"=\", sub)\n",
    "print(\"Multiplication:\", a, \"*\", b, \"=\", mul)\n",
    "print(\"Division:\", a, \"/\", b, \"=\", div)"
   ]
  },
  {
   "cell_type": "markdown",
   "id": "91921550-b11f-4f48-85ba-146c6b9809ad",
   "metadata": {},
   "source": [
    "QUESTION_2\n",
    "\n",
    "What is the difference between the following operators:\n",
    "(i) ‘/’ & ‘//’\n",
    "(ii) ‘**’ & ‘^’"
   ]
  },
  {
   "cell_type": "raw",
   "id": "1965fd2c-4094-499c-9000-9f840389031b",
   "metadata": {},
   "source": [
    "Ans: / = It is an arithmatic operator used for division operation.\n",
    "    // = It is an arithmatic floor division operator, it divids the numerator by the denominator and rounds off the result to the lower whole integer number and discards the\n",
    "    fraction part.\n",
    "    ** = It is an arithmatic operator, it gives square of any number.\n",
    "     ^ = It is a bitwise operator, and it is also known as XOR(exclusive or) It performs logical operation. If input bits are the same, then the output will be false(0) else\n",
    "     true(1)."
   ]
  },
  {
   "cell_type": "code",
   "execution_count": 7,
   "id": "b2490b6b-5313-402d-9609-49156bd98e8c",
   "metadata": {},
   "outputs": [
    {
     "name": "stdout",
     "output_type": "stream",
     "text": [
      "3.0\n",
      "3\n",
      "16\n",
      "1\n"
     ]
    }
   ],
   "source": [
    "a =6/2 # division operator\n",
    "print(a)\n",
    "b = 7//2 # floor division operator, Ideally the output is 3.5 however it rounds off the number to lower integer number and discards decimal, hence the out put is 3 and .5 is removed\n",
    "print(b)\n",
    "c = 4**2 #exponential or square\n",
    "print(c)\n",
    "d = 2^3 # bitwise XOR operator\n",
    "print(d)\n"
   ]
  },
  {
   "cell_type": "markdown",
   "id": "a39c0b1f-623a-4f19-9349-1b987a9c9ad9",
   "metadata": {},
   "source": [
    "QUESTION_3\n",
    "\n",
    "List the logical operators."
   ]
  },
  {
   "cell_type": "raw",
   "id": "603ecdee-e183-4cc8-865c-c319cdf38d9d",
   "metadata": {},
   "source": [
    "Ans: There are three logical operators are there in Python as listed below and it returns either True or False depending upon the condition.\n",
    "     AND, OR, and NOR."
   ]
  },
  {
   "cell_type": "markdown",
   "id": "f2e4c66e-38f0-4edb-a976-68f82a3f2c84",
   "metadata": {},
   "source": [
    "QUESTION_4\n",
    "\n",
    "Explain right shift operator and left shift operator with examples"
   ]
  },
  {
   "cell_type": "raw",
   "id": "007127c3-ccfb-45c2-8c31-0d9020436438",
   "metadata": {},
   "source": [
    "Ans: Left and Right shift are bitwise operators.\n",
    "     The right-shift operator(>>), moves the bits of an integer or enumeration type expression to the right, and the left-shift operator(<<) moves the bits to the left side for the\n",
    "     given number of times.\n",
    "     Please refer to the below example for your reference."
   ]
  },
  {
   "cell_type": "code",
   "execution_count": 10,
   "id": "7696df9b-723e-48d5-bc9c-487ef3100821",
   "metadata": {},
   "outputs": [
    {
     "name": "stdout",
     "output_type": "stream",
     "text": [
      "40\n",
      "----------------------------\n",
      "2\n"
     ]
    }
   ],
   "source": [
    "a = 5 << 3 # shifting the binary value of 5 to the left side three times, the binary value for 5 is 0 0 0 0 0 1 0 1(considering 8 bit value) and after shifting it to the left side three times it becomes 1 0 1 0 0 0, post converting it back to decimal the value becomes 40\n",
    "print(a)\n",
    "print(\"----------------------------\")\n",
    "b = 10 >> 2\n",
    "print(b)  # shifting the binary value of 10 to the right side two times, the binary value for 10 is 0 0 0 0 1 0 1 0(considering 8 bit value) and after shifting it to the left side two times it becomes 0 0 0 0 0 0 1 0, post converting it back to decimal the value becomes 2"
   ]
  },
  {
   "cell_type": "markdown",
   "id": "a6f36fe8-ad3b-42ac-b37b-2cf1a446e0a7",
   "metadata": {},
   "source": [
    "QUESTION_5\n",
    "\n",
    "Create a list containing int type data of length 15. Then write a code to check if 10 is present in the list or not."
   ]
  },
  {
   "cell_type": "code",
   "execution_count": 19,
   "id": "5c02d10f-b253-429d-8b92-e1cc61b76132",
   "metadata": {},
   "outputs": [
    {
     "name": "stdout",
     "output_type": "stream",
     "text": [
      "present\n"
     ]
    }
   ],
   "source": [
    "list1 = [1,2,3,4,5,6,7,8,9,10,11,12,13,14,15]\n",
    "\n",
    "i = 10\n",
    "\n",
    "if i in list1:\n",
    "    print(\"present\")\n",
    "else:\n",
    "    print(\"not present\")"
   ]
  }
 ],
 "metadata": {
  "kernelspec": {
   "display_name": "Python 3 (ipykernel)",
   "language": "python",
   "name": "python3"
  },
  "language_info": {
   "codemirror_mode": {
    "name": "ipython",
    "version": 3
   },
   "file_extension": ".py",
   "mimetype": "text/x-python",
   "name": "python",
   "nbconvert_exporter": "python",
   "pygments_lexer": "ipython3",
   "version": "3.10.6"
  }
 },
 "nbformat": 4,
 "nbformat_minor": 5
}
