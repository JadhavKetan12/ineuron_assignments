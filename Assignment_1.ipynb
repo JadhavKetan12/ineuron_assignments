{
 "cells": [
  {
   "cell_type": "markdown",
   "id": "00380ced-00bf-49e8-a13f-a036f8314cb3",
   "metadata": {
    "tags": []
   },
   "source": [
    "QUESTION_1\n",
    "\n",
    "In the below elements which of them are values or an expression? eg:- values can be integer or string and expressions will be mathematical operators."
   ]
  },
  {
   "cell_type": "raw",
   "id": "3d26f46c-14c3-443f-bd09-26c40ae47bec",
   "metadata": {},
   "source": [
    "Ans: Values: 'hello', -87.8, and 6.\n",
    "     Expression: *, -, /, +."
   ]
  },
  {
   "cell_type": "markdown",
   "id": "784eba34-a7e1-43f7-9ab5-1e9af90f7fa3",
   "metadata": {},
   "source": [
    "QUESTION_2\n",
    "\n",
    "What is the difference between string and variable?"
   ]
  },
  {
   "cell_type": "raw",
   "id": "2a0dc446-ba66-41e1-b538-674e22c93e4e",
   "metadata": {},
   "source": [
    "Ans: String is a datatype and it's collection of alphabets, words, numbers and other types of characters.\n",
    "     The values must be enclosed with the the double quotation mark while defining. \n",
    "\n",
    "     Variables are used to store the values, it can be measured and it can have different values.\n",
    "     It can store values of any datatype, for e.g. string, int, float, boolean, etc.\n",
    "     The variable name cannot start with a number. e.g. \"123ABC\" or \"25test\"\n",
    "      \n",
    "     Examples: x = \"test\" - Here, x is the variable and \"test\" is the string value assigned to x."
   ]
  },
  {
   "cell_type": "markdown",
   "id": "ccf0e583-dd2d-46b7-a71f-156aa806d31c",
   "metadata": {},
   "source": [
    "QUESTION_3\n",
    "\n",
    "Describe three different data types."
   ]
  },
  {
   "cell_type": "raw",
   "id": "d7c55fe2-ce8c-4fb1-8857-e674630891e2",
   "metadata": {},
   "source": [
    "Ans: 1) Integer = int() - An integer can accept only whole numbers.\n",
    "     2) Float = float() - Float can accept the number values with decimal point.\n",
    "     3) Blooean = bool() - Boolean value can either be True or False."
   ]
  },
  {
   "cell_type": "markdown",
   "id": "a7242dbe-3f54-4e0d-b374-f7c10fe98415",
   "metadata": {},
   "source": [
    "QUESTION_4\n",
    "\n",
    "What is an expression made up of? What do all expressions do?"
   ]
  },
  {
   "cell_type": "raw",
   "id": "ccccf925-cd36-4a99-b859-43f55570278d",
   "metadata": {},
   "source": [
    "Ans: Expression is a conbination of operands and operators(values and functions) where operators indicates what operation to perform and operands indicate what items to apply the action to.\n",
    "     It produces some value or result after being interpreted by the interpreter.\n",
    "     Expression is a process of representing or conveying a value in words or other form.\n",
    "     Expression can be of \"Simple\" or \"Complex\" type."
   ]
  },
  {
   "cell_type": "markdown",
   "id": "bca501b1-9a31-4888-9556-cb368bb48ffb",
   "metadata": {},
   "source": [
    "QUESTION_5\n",
    "\n",
    "This assignment statements, like spam = 10. What is the difference between an expression and a statement?"
   ]
  },
  {
   "cell_type": "raw",
   "id": "cfb72de1-99f5-4a71-aa98-bef07bd5a255",
   "metadata": {},
   "source": [
    "Ans: Expressions: Every expression can be a statement but, every statement cannot be an expression.\n",
    "                  Expression produces some value or result after being executed by the interpreter. Expression has values and functions to perform an operation on values.\n",
    "       \n",
    "     Statements:  Statement is a programming instruction or a set of instructions that gets executed and performs some or other actions but it does not necessarily return output or value everytime."
   ]
  },
  {
   "cell_type": "markdown",
   "id": "7129ea2a-b216-4537-bf91-8e7f5145dbbf",
   "metadata": {},
   "source": [
    "QUESTION_6\n",
    "\n",
    "After running the following code, what does the variable bacon contain?\n",
    "bacon = 22\n",
    "bacon + 1"
   ]
  },
  {
   "cell_type": "raw",
   "id": "1b592871-d03a-44c0-b0a9-e90fcec280f1",
   "metadata": {},
   "source": [
    "Ans: The valiable bacon will have a value of 23 after entire the code is executed.\n",
    "     \n",
    "     bacon = 22 - Initially, variable bacon is assigned a value of 22.\n",
    "     bacon + 1  - Now, bacon is incremented by 1 hence the bacon variable contains value of 23 after executing the second line of the code.\n",
    "     \n",
    "     Please refer to the below code."
   ]
  },
  {
   "cell_type": "code",
   "execution_count": 2,
   "id": "76bab969-571f-426d-ab1a-aa4e0a27eab1",
   "metadata": {},
   "outputs": [
    {
     "data": {
      "text/plain": [
       "23"
      ]
     },
     "execution_count": 2,
     "metadata": {},
     "output_type": "execute_result"
    }
   ],
   "source": [
    "bacon = 22\n",
    "bacon + 1"
   ]
  },
  {
   "cell_type": "markdown",
   "id": "ae29604e-11a3-4a8c-846f-4571e0043890",
   "metadata": {},
   "source": [
    "QUESTION_7\n",
    "\n",
    "What should the values of the following two terms be?\n",
    "\n",
    "'spam' + 'spamspam'\n",
    "\n",
    "'spam' * 3\n"
   ]
  },
  {
   "cell_type": "raw",
   "id": "99d7f309-83ef-4002-86ce-1534a7655e61",
   "metadata": {},
   "source": [
    "Ans: If both the codes are executed at the same time or if both the line of code is executed individually, the value will be \"spamspamspam\".\n",
    "     'spam' + 'spamspam' - This will contatenate word'spam' and 'spamspam' wothout any space as no space is given between both words.\n",
    "     'spam' * 3 - In this, word 'spam' gets multiplied with itself which produces 'spamspamspam'.\n",
    "      \n",
    "     When both the codes are executed at the same time the complier considers the last line of the code and returns 'spamspamspam'.\n",
    "      \n",
    "     Please refer to the below code."
   ]
  },
  {
   "cell_type": "code",
   "execution_count": 3,
   "id": "5e09b66c-b30a-4092-859e-115f909920e2",
   "metadata": {},
   "outputs": [
    {
     "data": {
      "text/plain": [
       "'spamspamspam'"
      ]
     },
     "execution_count": 3,
     "metadata": {},
     "output_type": "execute_result"
    }
   ],
   "source": [
    "'spam' + 'spamspam'\n",
    "\n",
    "'spam' * 3"
   ]
  },
  {
   "cell_type": "markdown",
   "id": "61e9e1f6-8d62-488b-b44f-e6590ed770e1",
   "metadata": {},
   "source": [
    "QUESTION_8\n",
    "\n",
    "Why is eggs a valid variable name while 100 is invalid?"
   ]
  },
  {
   "cell_type": "raw",
   "id": "318d1d4c-bbcb-4519-b12c-098d3c7ed574",
   "metadata": {},
   "source": [
    "Ans: As per the variable naming system in python, a variable name must begin with letter A-Z(upper or lower case) or underscore and cannot start with any number, hence eggs is a valid variable and 100 \n",
    "     is invalid."
   ]
  },
  {
   "cell_type": "markdown",
   "id": "39299629-2121-4946-82bc-6c9381f99f5b",
   "metadata": {},
   "source": [
    "QUESTION_9\n",
    "\n",
    "What three functions can be used to get the integer, floating-point number, or string version of a value?"
   ]
  },
  {
   "cell_type": "raw",
   "id": "668fa556-9fe7-4aac-9605-bce1ccf1ba8d",
   "metadata": {},
   "source": [
    "Ans: int() - funtion will be used to get any value of integer datatype.\n",
    "     float() - function will be used to get any value of float datatype.\n",
    "     str() - function will be used to get any value with string datatype.      "
   ]
  },
  {
   "cell_type": "markdown",
   "id": "7f0392a7-0ed7-4e62-817c-666b136ee47b",
   "metadata": {},
   "source": [
    "QUESTION_10\n",
    "\n",
    "Why does this expression cause an error? How can you fix it?\n",
    "\n",
    "'I have eaten ' + 99 + ' burritos.'"
   ]
  },
  {
   "cell_type": "raw",
   "id": "af837da3-02af-4353-b887-4dac163b4758",
   "metadata": {},
   "source": [
    "Ans: In this example, we are trying to concatenate string value with integer value hence there's an error.\n",
    "     To solve this, we have to enclose number 99 within inverted comma as '99'. Doing this, python will automatically convert the integer(99) to string and will concatenate it with the string value.\n",
    "      \n",
    "     Please refer to the below code."
   ]
  },
  {
   "cell_type": "code",
   "execution_count": 7,
   "id": "a82c755d-adf5-46bf-b398-2b82356b605a",
   "metadata": {},
   "outputs": [
    {
     "data": {
      "text/plain": [
       "'I have eaten 99 burritos.'"
      ]
     },
     "execution_count": 7,
     "metadata": {},
     "output_type": "execute_result"
    }
   ],
   "source": [
    "# Correct Code:\n",
    "\n",
    "'I have eaten ' + '99' + ' burritos.'"
   ]
  }
 ],
 "metadata": {
  "kernelspec": {
   "display_name": "Python 3 (ipykernel)",
   "language": "python",
   "name": "python3"
  },
  "language_info": {
   "codemirror_mode": {
    "name": "ipython",
    "version": 3
   },
   "file_extension": ".py",
   "mimetype": "text/x-python",
   "name": "python",
   "nbconvert_exporter": "python",
   "pygments_lexer": "ipython3",
   "version": "3.10.6"
  }
 },
 "nbformat": 4,
 "nbformat_minor": 5
}
