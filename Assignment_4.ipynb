{
 "cells": [
  {
   "cell_type": "markdown",
   "id": "50c4f52a-fda9-438d-baa9-65ba466a4308",
   "metadata": {},
   "source": [
    "QUESTION_1\n",
    "\n",
    "What exactly is []?"
   ]
  },
  {
   "cell_type": "raw",
   "id": "6b206d39-8bf0-46e8-9bea-ceb1515021f6",
   "metadata": {},
   "source": [
    "Ans: The square brackets are used to declare a list and its contents in our program."
   ]
  },
  {
   "cell_type": "markdown",
   "id": "815bd784-8e64-44e8-9363-353a2fa364ad",
   "metadata": {},
   "source": [
    "QUESTION_2\n",
    "\n",
    "In a list of values stored in a variable called spam, how would you assign the value 'hello' as the third value? (Assume [2, 4, 6, 8, 10] are in spam.)"
   ]
  },
  {
   "cell_type": "raw",
   "id": "d824f726-59fe-4ca1-a91e-fd665a8c6e27",
   "metadata": {},
   "source": [
    "Ans: Value can be assigned using the insert() function, refer to the below code for reference."
   ]
  },
  {
   "cell_type": "code",
   "execution_count": 19,
   "id": "866ca84b-36df-4810-9d42-c2fa7b1222ba",
   "metadata": {},
   "outputs": [],
   "source": [
    "spam = ['2','4','6','8','10'] #list with values as mentioned in the question"
   ]
  },
  {
   "cell_type": "code",
   "execution_count": 20,
   "id": "b3140b9a-b0a9-44f4-aa29-f5744992042b",
   "metadata": {},
   "outputs": [
    {
     "data": {
      "text/plain": [
       "['2', '4', '6', '8', '10']"
      ]
     },
     "execution_count": 20,
     "metadata": {},
     "output_type": "execute_result"
    }
   ],
   "source": [
    "spam #outout"
   ]
  },
  {
   "cell_type": "code",
   "execution_count": 21,
   "id": "8ef19f8c-8ebc-4793-8f54-2b4af5336e0a",
   "metadata": {},
   "outputs": [],
   "source": [
    "spam.insert(2,'hello') #inserting 'hello' as third value using the insert(), it takes two arguments the first one being the index at which the value must be added and the second is the value itself"
   ]
  },
  {
   "cell_type": "code",
   "execution_count": 22,
   "id": "64e50001-a9e4-4ce2-a0af-e0b62e074f73",
   "metadata": {},
   "outputs": [
    {
     "data": {
      "text/plain": [
       "['2', '4', 'hello', '6', '8', '10']"
      ]
     },
     "execution_count": 22,
     "metadata": {},
     "output_type": "execute_result"
    }
   ],
   "source": [
    "spam #output after updating the list spam with value 'hello' at third position"
   ]
  },
  {
   "cell_type": "markdown",
   "id": "f7f1cc88-cbda-4aa1-a9a6-c8ec9fc02873",
   "metadata": {},
   "source": [
    "QUESTION_3\n",
    "\n",
    "What is the value of spam[int(int('3' * 2) / 11)]?"
   ]
  },
  {
   "cell_type": "raw",
   "id": "21652075-3fdb-436e-a147-c3c70a8d9d3f",
   "metadata": {},
   "source": [
    "Ans: The value for the given code will be ['d']. Please refer to the below code for reference."
   ]
  },
  {
   "cell_type": "code",
   "execution_count": 23,
   "id": "a4b3472c-f8e0-4fb1-8dc8-4913cf463732",
   "metadata": {},
   "outputs": [],
   "source": [
    "spam = ['a','b','c','d'] #created a list as mentioned in the question"
   ]
  },
  {
   "cell_type": "code",
   "execution_count": 24,
   "id": "70633947-43ea-4a4b-b5bd-5d0bebc3f27e",
   "metadata": {},
   "outputs": [
    {
     "data": {
      "text/plain": [
       "['a', 'b', 'c', 'd']"
      ]
     },
     "execution_count": 24,
     "metadata": {},
     "output_type": "execute_result"
    }
   ],
   "source": [
    "spam #output."
   ]
  },
  {
   "cell_type": "code",
   "execution_count": 25,
   "id": "3ac5227e-31f5-465f-9dea-88afc4b29fad",
   "metadata": {},
   "outputs": [
    {
     "data": {
      "text/plain": [
       "'d'"
      ]
     },
     "execution_count": 25,
     "metadata": {},
     "output_type": "execute_result"
    }
   ],
   "source": [
    "spam[int(int('3' * 2) / 11)] #the calculation of ('3' * 2) / 11 gives output as 3 and value 'd' is stored at index 3 in the spam list hence 'd' is the output"
   ]
  },
  {
   "cell_type": "markdown",
   "id": "e5f201cd-dd3b-4039-9a31-97224be50315",
   "metadata": {},
   "source": [
    "QUESTION_4\n",
    "\n",
    "What is the value of spam[-1]?"
   ]
  },
  {
   "cell_type": "raw",
   "id": "fca154db-93dd-481e-a59b-e1cd2fe1c398",
   "metadata": {},
   "source": [
    "Ans: The value will be ['d'] as the index[-1] refers to the last element of the list. Refer to the blow code for reference."
   ]
  },
  {
   "cell_type": "code",
   "execution_count": 26,
   "id": "359e572c-308d-4e3d-ab98-0e29636139ae",
   "metadata": {},
   "outputs": [
    {
     "data": {
      "text/plain": [
       "'d'"
      ]
     },
     "execution_count": 26,
     "metadata": {},
     "output_type": "execute_result"
    }
   ],
   "source": [
    "spam[-1]"
   ]
  },
  {
   "cell_type": "markdown",
   "id": "fbb60dbe-afca-4ae0-bd1b-df86f8a7a791",
   "metadata": {},
   "source": [
    "QUESTION_5\n",
    "\n",
    "What is the value of spam[:2]"
   ]
  },
  {
   "cell_type": "raw",
   "id": "aef6b52e-1f7f-4ffa-97b1-8eb430c2c050",
   "metadata": {},
   "source": [
    "Ans: The value will be ['a','b',], spam[:2] has two arguments one is before colon and second is after the colon since no index value is passed before the colon it starts with 0 index by default and the\n",
    "     other index value is 2 which means it will return the index starting 0 to 1 and will ignore the index 2, same way if the second value is mentioned as 4 it will return the elements from index sition \n",
    "     0 to 3 and will ignore the elements at index position of 3.\n",
    "     Refer to the below example for your reference."
   ]
  },
  {
   "cell_type": "code",
   "execution_count": 28,
   "id": "896ed334-490f-4026-9970-290f891f69ac",
   "metadata": {},
   "outputs": [
    {
     "data": {
      "text/plain": [
       "['a', 'b']"
      ]
     },
     "execution_count": 28,
     "metadata": {},
     "output_type": "execute_result"
    }
   ],
   "source": [
    "spam[:2]"
   ]
  },
  {
   "cell_type": "markdown",
   "id": "1bbd6824-f756-49ed-90c0-4c796334fcc0",
   "metadata": {},
   "source": [
    "QUESTION_6\n",
    "\n",
    "What is the value of bacon.index('cat')?"
   ]
  },
  {
   "cell_type": "raw",
   "id": "44ab91af-91fe-452a-9110-60daa40091d9",
   "metadata": {},
   "source": [
    "Ans: The value for bacon.index('cat') will be '1', refer to the below example."
   ]
  },
  {
   "cell_type": "code",
   "execution_count": 29,
   "id": "9944389f-f02b-4bfa-91de-f0ed7b227254",
   "metadata": {},
   "outputs": [],
   "source": [
    "bacon = [3.14,'cat', 11,'cat',True] #created a list as mentioned in the question"
   ]
  },
  {
   "cell_type": "code",
   "execution_count": 30,
   "id": "8464879e-0272-4090-8387-355b3862215c",
   "metadata": {},
   "outputs": [
    {
     "data": {
      "text/plain": [
       "[3.14, 'cat', 11, 'cat', True]"
      ]
     },
     "execution_count": 30,
     "metadata": {},
     "output_type": "execute_result"
    }
   ],
   "source": [
    "bacon #output"
   ]
  },
  {
   "cell_type": "code",
   "execution_count": 31,
   "id": "e79bec65-ec32-4033-8a13-16b9cacb7022",
   "metadata": {},
   "outputs": [
    {
     "data": {
      "text/plain": [
       "1"
      ]
     },
     "execution_count": 31,
     "metadata": {},
     "output_type": "execute_result"
    }
   ],
   "source": [
    "bacon.index('cat') #output #the code returns the index value for element 'cat', the list containts two 'cat' elements however the code looks for the value starting from index 0 an as soon as it find the value 'cat' it returns the index position of it nad the code ends"
   ]
  },
  {
   "cell_type": "markdown",
   "id": "d7c58b6f-6fd4-4680-b0ae-b15ebe511906",
   "metadata": {},
   "source": [
    "QUESTION_7\n",
    "\n",
    "How does bacon.append(99) change the look of the list value in bacon?"
   ]
  },
  {
   "cell_type": "code",
   "execution_count": 33,
   "id": "4e2f27d5-fe3b-4ae5-b5d3-c46b482f9914",
   "metadata": {},
   "outputs": [],
   "source": [
    "bacon = [3.14,'cat', 11,'cat',True] #created a list as mentioned in the question"
   ]
  },
  {
   "cell_type": "code",
   "execution_count": 34,
   "id": "824af9ee-888c-48d7-b1d5-a6e8ef6df5d9",
   "metadata": {},
   "outputs": [
    {
     "data": {
      "text/plain": [
       "[3.14, 'cat', 11, 'cat', True]"
      ]
     },
     "execution_count": 34,
     "metadata": {},
     "output_type": "execute_result"
    }
   ],
   "source": [
    "bacon #output"
   ]
  },
  {
   "cell_type": "code",
   "execution_count": 35,
   "id": "24acaf96-c62d-4f19-9341-565c11cac0f7",
   "metadata": {},
   "outputs": [],
   "source": [
    "bacon.append(99) #the append() function adds the element that is passed in its argument at the end of the list"
   ]
  },
  {
   "cell_type": "code",
   "execution_count": 37,
   "id": "fddb60fa-c5ae-4d9a-87d3-8fac8292d290",
   "metadata": {},
   "outputs": [
    {
     "data": {
      "text/plain": [
       "[3.14, 'cat', 11, 'cat', True, 99]"
      ]
     },
     "execution_count": 37,
     "metadata": {},
     "output_type": "execute_result"
    }
   ],
   "source": [
    "bacon #putput, can see '99' added to the list at the end"
   ]
  },
  {
   "cell_type": "markdown",
   "id": "8309aacf-5e28-4e6b-ae74-7f6e4fc4cb68",
   "metadata": {},
   "source": [
    "QUESTION_8\n",
    "\n",
    "How does bacon.remove('cat') change the look of the list in bacon?"
   ]
  },
  {
   "cell_type": "raw",
   "id": "cacf10d3-3f81-4ea7-a965-4a4ac36d21cf",
   "metadata": {},
   "source": [
    "Ans: The remove function removes the element that is passed in its arguments, refer to the code below."
   ]
  },
  {
   "cell_type": "code",
   "execution_count": 38,
   "id": "263ece89-b092-4bbb-a15c-9f59248103b5",
   "metadata": {},
   "outputs": [
    {
     "data": {
      "text/plain": [
       "[3.14, 'cat', 11, 'cat', True, 99]"
      ]
     },
     "execution_count": 38,
     "metadata": {},
     "output_type": "execute_result"
    }
   ],
   "source": [
    "bacon #list printed as it is"
   ]
  },
  {
   "cell_type": "code",
   "execution_count": 41,
   "id": "7d8c3404-965c-439a-96e8-d81f080a22d4",
   "metadata": {},
   "outputs": [],
   "source": [
    "bacon.remove('cat') #removed the element 'cat' from the list"
   ]
  },
  {
   "cell_type": "code",
   "execution_count": 42,
   "id": "55f98d6c-380d-4833-9977-40f16b4616a2",
   "metadata": {},
   "outputs": [
    {
     "data": {
      "text/plain": [
       "[3.14, 11, True, 99]"
      ]
     },
     "execution_count": 42,
     "metadata": {},
     "output_type": "execute_result"
    }
   ],
   "source": [
    "bacon #output after removing element 'cat', the code will remove all the elements matching with the argument passed in the remove function"
   ]
  },
  {
   "cell_type": "markdown",
   "id": "1d55cba3-a10f-4b1a-8274-9f70176ed2ea",
   "metadata": {},
   "source": [
    "QUESTION_9\n",
    "\n",
    "What are the list concatenation and list replication operators?"
   ]
  },
  {
   "cell_type": "raw",
   "id": "a81a6586-3e3c-48d3-89e1-4cb6745f47e6",
   "metadata": {},
   "source": [
    "Ans: The concatenation poerator(+) will combine the two or more than two lists and/or its elements, and the replication operator(*) will repeat the list and/or its elements as many times as requested.\n",
    "     Refer to the below code for your reference."
   ]
  },
  {
   "cell_type": "code",
   "execution_count": 62,
   "id": "48e7dc17-3a21-44cc-bce0-54c7d9f941d3",
   "metadata": {},
   "outputs": [],
   "source": [
    "list1 = [1,2,3] #creating list1"
   ]
  },
  {
   "cell_type": "code",
   "execution_count": 63,
   "id": "e6b6bfd1-b93e-433c-8eee-0e9c8345abbf",
   "metadata": {},
   "outputs": [],
   "source": [
    "list2 = ['a','b','c'] #creating list2"
   ]
  },
  {
   "cell_type": "code",
   "execution_count": 64,
   "id": "3d03d266-889f-4552-99bd-b8352f945b0e",
   "metadata": {},
   "outputs": [
    {
     "data": {
      "text/plain": [
       "[1, 2, 3, 'a', 'b', 'c']"
      ]
     },
     "execution_count": 64,
     "metadata": {},
     "output_type": "execute_result"
    }
   ],
   "source": [
    "list1 + list2 #printing output by concatenating list1 and list2"
   ]
  },
  {
   "cell_type": "code",
   "execution_count": 65,
   "id": "0583368c-afd2-4d0b-8c6f-eda4becb7125",
   "metadata": {},
   "outputs": [
    {
     "data": {
      "text/plain": [
       "[1, 2, 3, 1, 2, 3, 1, 2, 3]"
      ]
     },
     "execution_count": 65,
     "metadata": {},
     "output_type": "execute_result"
    }
   ],
   "source": [
    "list1 * 3 #we are trying to repeat the list1 using replication operator which prints the same list 3 times"
   ]
  },
  {
   "cell_type": "markdown",
   "id": "26a5de39-caee-40d9-98f1-8398e69ed539",
   "metadata": {},
   "source": [
    "QUESTION_10\n",
    "\n",
    "What is difference between the list methods append() and insert()?"
   ]
  },
  {
   "cell_type": "raw",
   "id": "4a22614d-30c3-42ee-b551-56febdfe6d01",
   "metadata": {},
   "source": [
    "Ans: The append() function will add the element at the end of the list.\n",
    "     The insert() function has two arguments, it also addes the elements to the list, however at a specified index position.\n",
    "     Refer to the below example."
   ]
  },
  {
   "cell_type": "code",
   "execution_count": 82,
   "id": "e172a0fc-fb77-4892-9a71-a7973ac6e210",
   "metadata": {},
   "outputs": [],
   "source": [
    "list1 = [1,2,3] #creating new list"
   ]
  },
  {
   "cell_type": "code",
   "execution_count": 83,
   "id": "2f9f90af-f70f-4c08-96e0-15e140f4f374",
   "metadata": {},
   "outputs": [],
   "source": [
    "list1.append(4) #append function adds the number 4 at the end of the list as you can see in the output below"
   ]
  },
  {
   "cell_type": "code",
   "execution_count": 84,
   "id": "078627e6-a31a-4e2c-b66a-3d9d2c27aa33",
   "metadata": {},
   "outputs": [
    {
     "data": {
      "text/plain": [
       "[1, 2, 3, 4]"
      ]
     },
     "execution_count": 84,
     "metadata": {},
     "output_type": "execute_result"
    }
   ],
   "source": [
    "list1 #output"
   ]
  },
  {
   "cell_type": "code",
   "execution_count": 85,
   "id": "096651d7-3ae9-4061-8eed-3653e220f37f",
   "metadata": {},
   "outputs": [],
   "source": [
    "list1.insert(0,'a') #we are adding element 'a' to the list at 0 index position\n",
    "                    #the first argument in the insert function defines the index position at which the element must be added and the second argument is the element that is to be added in the list "
   ]
  },
  {
   "cell_type": "code",
   "execution_count": 88,
   "id": "b07e2554-3698-4715-af2d-8baae73c8b7d",
   "metadata": {},
   "outputs": [
    {
     "data": {
      "text/plain": [
       "['a', 1, 2, 3, 4]"
      ]
     },
     "execution_count": 88,
     "metadata": {},
     "output_type": "execute_result"
    }
   ],
   "source": [
    "list1 #outpout"
   ]
  },
  {
   "cell_type": "markdown",
   "id": "e84dfb59-3b7e-4e35-ad71-f258e005ffb4",
   "metadata": {},
   "source": [
    "QUESTION_11\n",
    "\n",
    "What are the two methods for removing items from a list?"
   ]
  },
  {
   "cell_type": "raw",
   "id": "423fc267-fc92-44a7-817f-12bca58d5807",
   "metadata": {},
   "source": [
    "Ans: There are twe methond to remove the elements from the list, remove() and clear().\n",
    "     remove() function will only remove the element that is passed as an argument in the remove functions and it takes only one argument at a time.\n",
    "     clear() function will clear the entire list and delete every elements from the list.\n",
    "     Refer to the below example."
   ]
  },
  {
   "cell_type": "code",
   "execution_count": 89,
   "id": "a054cce5-0bbc-47b7-934e-06a6ac2b6a42",
   "metadata": {},
   "outputs": [],
   "source": [
    "list1 = ['a','b','c','d','e'] #creating a new list"
   ]
  },
  {
   "cell_type": "code",
   "execution_count": 90,
   "id": "5de01358-7cfb-4d1a-9693-cca8048c3b4c",
   "metadata": {},
   "outputs": [
    {
     "data": {
      "text/plain": [
       "['a', 'b', 'c', 'd', 'e']"
      ]
     },
     "execution_count": 90,
     "metadata": {},
     "output_type": "execute_result"
    }
   ],
   "source": [
    "list1 #printing list1 output"
   ]
  },
  {
   "cell_type": "code",
   "execution_count": 92,
   "id": "511a5c4b-6622-45ef-9d30-dadca6d55b73",
   "metadata": {},
   "outputs": [],
   "source": [
    "list1.remove('a') #we are trying to remove only 'a' element from the list1 using remove function"
   ]
  },
  {
   "cell_type": "code",
   "execution_count": 93,
   "id": "06c61ab5-1ef7-442d-8626-e6b397b159da",
   "metadata": {},
   "outputs": [
    {
     "data": {
      "text/plain": [
       "['b', 'c', 'd', 'e']"
      ]
     },
     "execution_count": 93,
     "metadata": {},
     "output_type": "execute_result"
    }
   ],
   "source": [
    "list1 #output."
   ]
  },
  {
   "cell_type": "code",
   "execution_count": 94,
   "id": "2d3cc2a6-e864-4358-b583-8076014e4e8d",
   "metadata": {},
   "outputs": [],
   "source": [
    "list1.clear() #we are using clear fuction to clear the list and it removes all the elements from the list"
   ]
  },
  {
   "cell_type": "code",
   "execution_count": 95,
   "id": "077646fc-1b48-4ea9-a32b-ffe1eb0845a4",
   "metadata": {},
   "outputs": [
    {
     "data": {
      "text/plain": [
       "[]"
      ]
     },
     "execution_count": 95,
     "metadata": {},
     "output_type": "execute_result"
    }
   ],
   "source": [
    "list1 #output, as you can see the below output, the list is completely empty after executing the clear function"
   ]
  },
  {
   "cell_type": "markdown",
   "id": "31fb5a9c-5730-4f8c-a331-719fd2a3368a",
   "metadata": {},
   "source": [
    "QUESTION_12\n",
    "\n",
    "Describe how list values and string values are identical."
   ]
  },
  {
   "cell_type": "raw",
   "id": "e65c1b96-0f3e-4cd0-a04f-bc81897c6a2e",
   "metadata": {},
   "source": [
    "Ans: The list values and string values are having one similirity that is they both are sequences as they behave like sequence."
   ]
  },
  {
   "cell_type": "markdown",
   "id": "d0a2f281-cee4-48ad-8b5e-d25d4fa59bd6",
   "metadata": {},
   "source": [
    "QUESTION_13\n",
    "\n",
    "What's the difference between tuples and lists?"
   ]
  },
  {
   "cell_type": "raw",
   "id": "04ab841e-abe3-444a-9815-257fe53384ab",
   "metadata": {},
   "source": [
    "Ans: The lists are mutable(can be updated/changed) and the tuples are immutable(can't be updated/changed once created), and that's the major difference between them."
   ]
  },
  {
   "cell_type": "markdown",
   "id": "b1baf043-b2de-4d20-88be-94fb2386c9ed",
   "metadata": {},
   "source": [
    "QUESTION_14\n",
    "\n",
    "How do you type a tuple value that only contains the integer 42?"
   ]
  },
  {
   "cell_type": "raw",
   "id": "1bf390ec-4684-4a4a-a24c-3acc5d937fdf",
   "metadata": {},
   "source": [
    "Ans: The integer value does not necessarily need to be enclosed within the quotation marks like the string value, however a comma must be passed after the value if we need to create a tuple with a\n",
    "     single value."
   ]
  },
  {
   "cell_type": "code",
   "execution_count": 102,
   "id": "886ab27c-e4aa-45c3-8720-f41b8540f399",
   "metadata": {},
   "outputs": [],
   "source": [
    "tuple1 = (42,) #as you can see in the output, the tuple is created with single integer value 42 even when it is not enclosed within the quotation marks however a comma must be passed after number 42 else 'tuple1' will be considered a variable with value 42 of integer datatype"
   ]
  },
  {
   "cell_type": "code",
   "execution_count": 103,
   "id": "856fcc99-1c74-4e59-9716-7b0f68f7c26d",
   "metadata": {},
   "outputs": [
    {
     "data": {
      "text/plain": [
       "(42,)"
      ]
     },
     "execution_count": 103,
     "metadata": {},
     "output_type": "execute_result"
    }
   ],
   "source": [
    "tuple1 #output"
   ]
  },
  {
   "cell_type": "code",
   "execution_count": 104,
   "id": "f6169db6-3d0e-4d06-a1b9-54a3ffec6931",
   "metadata": {},
   "outputs": [
    {
     "data": {
      "text/plain": [
       "tuple"
      ]
     },
     "execution_count": 104,
     "metadata": {},
     "output_type": "execute_result"
    }
   ],
   "source": [
    "type(tuple1) #datatype for tuple1 is tuple as you can see in the below output"
   ]
  },
  {
   "cell_type": "markdown",
   "id": "b7fad0ef-a48f-4661-8db7-d62c4a653b29",
   "metadata": {},
   "source": [
    "QUESTION_15\n",
    "\n",
    "How do you get a list value's tuple form? How do you get a tuple value's list form?"
   ]
  },
  {
   "cell_type": "raw",
   "id": "3caef6b0-c3a8-49be-af6c-25899f38c6d1",
   "metadata": {},
   "source": [
    "Ans: 1) How do you get a tuple value's list form?: \n",
    "        To convert a tuple into list in Python, call list() builtin function and pass the tuple as argument to the function. list() returns a new list generated from the items of the given tuple.\n",
    "     \n",
    "     2) How do you get a list value's tuple form?\n",
    "        If you want to convert a Python list to a tuple, you can use the tuple() function to pass the full list as an argument, and it will return the tuple data type as an output."
   ]
  },
  {
   "cell_type": "markdown",
   "id": "f36f111a-ea69-460b-b277-045e0a7cc4be",
   "metadata": {},
   "source": [
    "QUESTION_16\n",
    "\n",
    "Variables that \"contain\" list values are not necessarily lists themselves. Instead, what do they contain?"
   ]
  },
  {
   "cell_type": "raw",
   "id": "1f8fe9f2-5113-4599-bb8f-52a671fdbd40",
   "metadata": {},
   "source": [
    "Ans: Variables will contain references to list values rather than list values themselves. But for strings and integer values, variables simply contain the string or integer value."
   ]
  },
  {
   "cell_type": "markdown",
   "id": "049e6f42-c081-4c05-9595-2b1833da8aad",
   "metadata": {},
   "source": [
    "QURSTION_17\n",
    "\n",
    "How do you distinguish between copy.copy() and copy.deepcopy()?"
   ]
  },
  {
   "cell_type": "raw",
   "id": "6918e8dd-6502-4d52-808e-82b3b81cff38",
   "metadata": {},
   "source": [
    "Ans: 1) copy() create reference to original object. If you change copied object - you change the original object.\n",
    "     2) deepcopy() creates new object and does real copying of original object to new one. Changing new deepcopied object doesn't affect original object."
   ]
  }
 ],
 "metadata": {
  "kernelspec": {
   "display_name": "Python 3 (ipykernel)",
   "language": "python",
   "name": "python3"
  },
  "language_info": {
   "codemirror_mode": {
    "name": "ipython",
    "version": 3
   },
   "file_extension": ".py",
   "mimetype": "text/x-python",
   "name": "python",
   "nbconvert_exporter": "python",
   "pygments_lexer": "ipython3",
   "version": "3.10.6"
  }
 },
 "nbformat": 4,
 "nbformat_minor": 5
}
