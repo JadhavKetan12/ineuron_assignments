{
 "cells": [
  {
   "cell_type": "markdown",
   "id": "b80c4ce7-7e8e-46b8-951b-91b7b5f0a8d9",
   "metadata": {},
   "source": [
    "QUESTION_1\n",
    "\n",
    "Why are functions advantageous to have in your programs?"
   ]
  },
  {
   "cell_type": "raw",
   "id": "a91709df-963d-41c6-9e75-90c53944e2dd",
   "metadata": {},
   "source": [
    "Ans: It unable the code reusability, the program becomes small, easy to understand and alteration becomes much more easy and swift."
   ]
  },
  {
   "cell_type": "markdown",
   "id": "e6c80685-c01f-476c-924b-c936f4c745ca",
   "metadata": {},
   "source": [
    "QUESTION_2\n",
    "\n",
    "When does the code in a function run: when it's specified or when it's called?"
   ]
  },
  {
   "cell_type": "raw",
   "id": "4bf2bf2d-66ba-4c20-8348-484355af02ca",
   "metadata": {},
   "source": [
    "Ans: The code inside the fuction run's when the function is called."
   ]
  },
  {
   "cell_type": "markdown",
   "id": "5e0c83ae-554b-41f0-b245-bad267aa5dbc",
   "metadata": {},
   "source": [
    "QUESTION_3\n",
    "\n",
    "What statement creates a function?"
   ]
  },
  {
   "cell_type": "raw",
   "id": "ae81b8a6-09f7-4f8c-a2c7-94c3356f9876",
   "metadata": {},
   "source": [
    "Ans: The def keyword is used to create a function followed by open and close paranthhesis and the colon at the end.\n",
    "     \n",
    "     Please refer to the below code for your reference."
   ]
  },
  {
   "cell_type": "code",
   "execution_count": 8,
   "id": "e0a6b038-ee68-4329-a45b-d245c9e941c8",
   "metadata": {},
   "outputs": [
    {
     "name": "stdout",
     "output_type": "stream",
     "text": [
      "Hello\n"
     ]
    }
   ],
   "source": [
    "def myfunc():  # creating a cunftion with name \"myfunc\" which prints Hello when it is called\n",
    "    print(\"Hello\")\n",
    "    \n",
    "myfunc()"
   ]
  },
  {
   "cell_type": "markdown",
   "id": "5eb58554-d271-4eb0-b88a-292c0bfc7805",
   "metadata": {},
   "source": [
    "QUESTION_4\n",
    "\n",
    "What is the difference between a function and a function call?"
   ]
  },
  {
   "cell_type": "raw",
   "id": "0fff2c79-d9bc-4edd-b558-7b7ea5828427",
   "metadata": {},
   "source": [
    "Ans: The function is a block of code which runs when it is called.\n",
    "     Function calling means to call a specific function that gets executed and returns a value.\n",
    "    \n",
    "     Please refer to the below code for your reference."
   ]
  },
  {
   "cell_type": "code",
   "execution_count": 15,
   "id": "6ab3ef75-244a-4715-b9e3-3a7fcda5beb9",
   "metadata": {},
   "outputs": [
    {
     "name": "stdout",
     "output_type": "stream",
     "text": [
      "My new function\n"
     ]
    }
   ],
   "source": [
    "def my_func():   #creating a new function\n",
    "    print(\"My new function\")\n",
    "    \n",
    "my_func()  #calling a function"
   ]
  },
  {
   "cell_type": "markdown",
   "id": "55136e0a-f2db-4906-bb30-0494ca88ea42",
   "metadata": {},
   "source": [
    "QUESTION_5\n",
    "\n",
    "How many global scopes are there in a Python program? How many local scopes?"
   ]
  },
  {
   "cell_type": "raw",
   "id": "3d9cfdbc-5de9-4782-85bf-bf3fe2e6e529",
   "metadata": {},
   "source": [
    "Ans: There's only one type of global and local scope available in python. Scope is the region that a variable is recognized.\n",
    "     Variables that are defined inside a function body have a local scope, and those defined outside have a global scope.\n",
    "    \n",
    "     Please refer to the below code for your reference."
   ]
  },
  {
   "cell_type": "code",
   "execution_count": 30,
   "id": "f41bce7c-4b7a-4ddf-9234-08ba1ab1a027",
   "metadata": {},
   "outputs": [
    {
     "name": "stdout",
     "output_type": "stream",
     "text": [
      "Hello\n"
     ]
    }
   ],
   "source": [
    "var1 = \"Hello\"  #global scope, available inside as well as outside of the function since it is created outside of the function\n",
    "\n",
    "def func():\n",
    "    var2 = \"Hi\"  #local scope, available only inside this function since it is created inside this function\n",
    "    print(var2)\n",
    "\n",
    "print(var1)  #the output is \"hello\" since we are trying to print the value of var1 which is created outside of the function and is a global function. if we try to access a local variable being outside of the function it will throw and error since local variable cannot be accessed from ouyside the function in which it is created"
   ]
  },
  {
   "cell_type": "markdown",
   "id": "a4449543-1157-4b54-963f-d47555fa9f49",
   "metadata": {},
   "source": [
    "QUESTION_6\n",
    "\n",
    "What happens to variables in a local scope when the function call returns?"
   ]
  },
  {
   "cell_type": "raw",
   "id": "d434be9b-d699-466b-b661-650ff0357cd6",
   "metadata": {},
   "source": [
    "Ans: A variable declared inside a function has a function scope. It has been allocated memory when the function is called, once the function is called, and once it returns something, the execution ends,\n",
    "     and the variable goes out of scope meaning the variable gets deleted from the memory."
   ]
  },
  {
   "cell_type": "markdown",
   "id": "6efc164b-1cfa-4472-848b-1ef4b85a280a",
   "metadata": {},
   "source": [
    "QUESTION_7\n",
    "\n",
    "What is the concept of a return value? Is it possible to have a return value in an expression?"
   ]
  },
  {
   "cell_type": "raw",
   "id": "c95532b8-afac-431a-9a57-e7fdf2d79a19",
   "metadata": {},
   "source": [
    "Ans: Return value is a value that is evalueated and returned when a function is called.\n",
    "     Yes, a return value can be used as part of an expression."
   ]
  },
  {
   "cell_type": "markdown",
   "id": "044b59cb-b92d-45b2-967d-5a30cbc54e0a",
   "metadata": {},
   "source": [
    "QUESTION_8\n",
    "\n",
    "If a function does not have a return statement, what is the return value of a call to that function?"
   ]
  },
  {
   "cell_type": "raw",
   "id": "2f35b12d-b758-434a-968e-05178005d795",
   "metadata": {},
   "source": [
    "Ans: There wont be any return value, since the function does not have any return statement."
   ]
  },
  {
   "cell_type": "markdown",
   "id": "25be16c9-a68b-4439-b6d1-81e2a6ae5ed1",
   "metadata": {},
   "source": [
    "QUESTION_9\n",
    "\n",
    "How do you make a function variable refer to the global variable?"
   ]
  },
  {
   "cell_type": "raw",
   "id": "961da39c-8301-4c5f-b877-9735264306cf",
   "metadata": {},
   "source": [
    "Ans: To make a variable acessed globally, you can use keyword \"global\" while declaring the variable inside the function."
   ]
  },
  {
   "cell_type": "markdown",
   "id": "7a515a90-7520-461d-89d9-d7d520424965",
   "metadata": {},
   "source": [
    "QUESTION_10\n",
    "\n",
    "What is the data type of None?"
   ]
  },
  {
   "cell_type": "raw",
   "id": "f31e27ba-3b6d-402b-a463-24af07d8483a",
   "metadata": {},
   "source": [
    "Ans: Datatype for None is Nonetype."
   ]
  },
  {
   "cell_type": "markdown",
   "id": "1889556b-60f2-4d16-9f01-2334fd1cb17e",
   "metadata": {},
   "source": [
    "QUESTION_11\n",
    "\n",
    "What does the sentence import areallyourpetsnamederic do?"
   ]
  },
  {
   "cell_type": "raw",
   "id": "d18d8814-c7b5-47a1-9d69-74f0f9f92863",
   "metadata": {},
   "source": [
    "Ans: import areallyourpetsnamederic will import the module named \"areallyourpetsnamederic\", however there is no such module exist in python."
   ]
  },
  {
   "cell_type": "markdown",
   "id": "6e0be39d-923d-4f9d-8c95-b6d1146de5eb",
   "metadata": {},
   "source": [
    "QUESTION_12\n",
    "\n",
    "If you had a bacon() feature in a spam module, what would you call it after importing spam?"
   ]
  },
  {
   "cell_type": "raw",
   "id": "b30576ff-4a20-446f-9abf-3a2ac949ba35",
   "metadata": {},
   "source": [
    "Ans: The function can be called using the below mentioned format.\n",
    "     import spam\n",
    "     spam.bacon()\n",
    "      \n",
    "     Please refer to the below example for reference."
   ]
  },
  {
   "cell_type": "code",
   "execution_count": 1,
   "id": "9a2788c7-8e01-4149-9498-6e7d5edbba9c",
   "metadata": {},
   "outputs": [
    {
     "data": {
      "text/plain": [
       "10"
      ]
     },
     "execution_count": 1,
     "metadata": {},
     "output_type": "execute_result"
    }
   ],
   "source": [
    "import math   #importing a module\n",
    "math.floor(10.90)   #calling a floor function from math module. The output is 10 as the floor function rounds the number down to the nearest most integer number"
   ]
  },
  {
   "cell_type": "markdown",
   "id": "0c8f8691-046d-4cf8-b3f7-88f67651ce8e",
   "metadata": {},
   "source": [
    "QUESTION_13\n",
    "\n",
    "What can you do to save a programme from crashing if it encounters an error?"
   ]
  },
  {
   "cell_type": "raw",
   "id": "b1d8415a-eba5-451a-a58e-1636f633663b",
   "metadata": {},
   "source": [
    "Ans: try and except can be used to prevent the program from crashing."
   ]
  },
  {
   "cell_type": "markdown",
   "id": "257f49dd-05c6-41d6-aad8-81b76e5f58b2",
   "metadata": {},
   "source": [
    "QUESTION_14\n",
    "\n",
    "What is the purpose of the try clause? What is the purpose of the except clause?"
   ]
  },
  {
   "cell_type": "raw",
   "id": "f7dfba90-8c20-495d-9ac1-6f1adfbcd0d6",
   "metadata": {},
   "source": [
    "Ans: try and except clause prevents the program from crashing and handles the error if there's any.\n",
    "     try block tests the block of code for errors and except block handles the error.\n",
    "     \n",
    "     Refer to the below code example for reference."
   ]
  },
  {
   "cell_type": "code",
   "execution_count": 3,
   "id": "774392d1-fd32-4cf4-be41-813e0c238c9e",
   "metadata": {},
   "outputs": [
    {
     "name": "stdout",
     "output_type": "stream",
     "text": [
      "Hi\n"
     ]
    }
   ],
   "source": [
    "try:\n",
    "  print(\"Hi\")   #The output for this code is 'Hi' as there is not error in try block and the program execution ends after try block\n",
    "except:\n",
    "  print(\"An exception occurred\")"
   ]
  },
  {
   "cell_type": "code",
   "execution_count": 11,
   "id": "9a686da7-994e-4826-a8ce-03942fffba48",
   "metadata": {},
   "outputs": [
    {
     "name": "stdout",
     "output_type": "stream",
     "text": [
      "An exception occurred\n"
     ]
    }
   ],
   "source": [
    "try:\n",
    "  print(name)   #the try block will execute and produce and error as variable 'name' is not defined anywhere,\n",
    "                #hence the second part of the program which is except block gets executed and prints the error handling statement\n",
    "except:\n",
    "  print(\"An exception occurred\")"
   ]
  }
 ],
 "metadata": {
  "kernelspec": {
   "display_name": "Python 3 (ipykernel)",
   "language": "python",
   "name": "python3"
  },
  "language_info": {
   "codemirror_mode": {
    "name": "ipython",
    "version": 3
   },
   "file_extension": ".py",
   "mimetype": "text/x-python",
   "name": "python",
   "nbconvert_exporter": "python",
   "pygments_lexer": "ipython3",
   "version": "3.10.6"
  }
 },
 "nbformat": 4,
 "nbformat_minor": 5
}
