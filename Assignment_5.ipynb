{
 "cells": [
  {
   "cell_type": "markdown",
   "id": "801771d3-2162-43c2-b30f-75406a18c5ee",
   "metadata": {},
   "source": [
    "QUESTION_1\n",
    "\n",
    "What does an empty dictionary's code look like?"
   ]
  },
  {
   "cell_type": "raw",
   "id": "8c48bde1-11e9-4f84-a263-439183439199",
   "metadata": {},
   "source": [
    "Ans: dict_1 = {} - Here the dict_1 is the name of the dictionary and the curly brackets are not having any value as it's empty dictionary."
   ]
  },
  {
   "cell_type": "markdown",
   "id": "761038ae-db1a-47e7-8db0-fbfd32c33721",
   "metadata": {},
   "source": [
    "QUESTION_2\n",
    "\n",
    "What is the value of a dictionary value with the key 'foo' and the value 42?"
   ]
  },
  {
   "cell_type": "raw",
   "id": "3521dc2d-ca91-4e94-9f79-34c9c7fdefdb",
   "metadata": {},
   "source": [
    "Ans: The value will be {'foo': '42'}, please refer to the code below for your reference."
   ]
  },
  {
   "cell_type": "code",
   "execution_count": 3,
   "id": "7e7905c0-c514-4e7f-a836-4bea91c2bc09",
   "metadata": {},
   "outputs": [],
   "source": [
    "dict_1 = {'foo':'42'} #created a dictionary with foo key and 42 as value"
   ]
  },
  {
   "cell_type": "code",
   "execution_count": 5,
   "id": "8a036cf7-7906-430e-ac29-9883b10a4ec8",
   "metadata": {},
   "outputs": [
    {
     "data": {
      "text/plain": [
       "{'foo': '42'}"
      ]
     },
     "execution_count": 5,
     "metadata": {},
     "output_type": "execute_result"
    }
   ],
   "source": [
    "dict_1 #output"
   ]
  },
  {
   "cell_type": "markdown",
   "id": "6acce502-afdb-422b-a04e-d96a6d880097",
   "metadata": {},
   "source": [
    "QUESTION_3\n",
    "\n",
    "What is the most significant distinction between a dictionary and a list?"
   ]
  },
  {
   "cell_type": "raw",
   "id": "e640a039-12d5-4751-a4b7-10197a4b3e1f",
   "metadata": {},
   "source": [
    "Ans: Discionary refers to a hashed structure of various pairs of keya and values. A list refers to a collection of various index value pairs.\n",
    "     Lists are used to store the data, which should be ordered and sequential. On the other hand, dictionary is used to store large amounts of data for easy and quick access. List is ordered and mutable, \n",
    "     whereas dictionaries are unordered and mutable"
   ]
  },
  {
   "cell_type": "markdown",
   "id": "6c42d106-cddf-4a02-88a9-9fdf73374ac7",
   "metadata": {},
   "source": [
    "QUESTION_4\n",
    "\n",
    "What happens if you try to access spam['foo'] if spam is {'bar': 100}?"
   ]
  },
  {
   "cell_type": "raw",
   "id": "667e99b1-03d3-4cc7-9458-7d78af9858ca",
   "metadata": {},
   "source": [
    "Ans: The program will throw an key error, please refer to the below code for your reference."
   ]
  },
  {
   "cell_type": "code",
   "execution_count": 10,
   "id": "2c068646-4132-47e1-a84e-a3783941987d",
   "metadata": {},
   "outputs": [],
   "source": [
    "spam =  {'bar': 100} #dictionary"
   ]
  },
  {
   "cell_type": "code",
   "execution_count": 11,
   "id": "cbb08652-6f4e-4184-835a-73087a3f38d6",
   "metadata": {},
   "outputs": [
    {
     "ename": "KeyError",
     "evalue": "'foo'",
     "output_type": "error",
     "traceback": [
      "\u001b[0;31m---------------------------------------------------------------------------\u001b[0m",
      "\u001b[0;31mKeyError\u001b[0m                                  Traceback (most recent call last)",
      "Cell \u001b[0;32mIn [11], line 1\u001b[0m\n\u001b[0;32m----> 1\u001b[0m \u001b[43mspam\u001b[49m\u001b[43m[\u001b[49m\u001b[38;5;124;43m'\u001b[39;49m\u001b[38;5;124;43mfoo\u001b[39;49m\u001b[38;5;124;43m'\u001b[39;49m\u001b[43m]\u001b[49m\n",
      "\u001b[0;31mKeyError\u001b[0m: 'foo'"
     ]
    }
   ],
   "source": [
    "spam['foo']"
   ]
  },
  {
   "cell_type": "markdown",
   "id": "888d7e1f-4842-4c21-b650-a56571265015",
   "metadata": {},
   "source": [
    "QUESTION_5\n",
    "\n",
    "If a dictionary is stored in spam, what is the difference between the expressions 'cat' in spam and 'cat' in spam.keys()?"
   ]
  },
  {
   "cell_type": "raw",
   "id": "8521001e-1e0d-4414-946b-b79b712f2a31",
   "metadata": {},
   "source": [
    "Ans: There is no difference. The 'in' operator checks whether a value exists as a key in the dictionary. Both code checks if 'cat' key exists in the dictionary and returns True if it exists."
   ]
  },
  {
   "cell_type": "code",
   "execution_count": 45,
   "id": "6b8f1a08-18d6-4a81-9bb5-3b1eead74e0b",
   "metadata": {},
   "outputs": [],
   "source": [
    "spam = {'cat' : 'animal'} #dictionary created with 'cat' as a key and 'animal' as a value"
   ]
  },
  {
   "cell_type": "code",
   "execution_count": 46,
   "id": "d8f70119-cddf-40f6-ba48-82914c714b16",
   "metadata": {},
   "outputs": [
    {
     "data": {
      "text/plain": [
       "False"
      ]
     },
     "execution_count": 46,
     "metadata": {},
     "output_type": "execute_result"
    }
   ],
   "source": [
    "'cat' in spam"
   ]
  },
  {
   "cell_type": "code",
   "execution_count": 43,
   "id": "53b9da00-18bc-4bc1-a9eb-75cfe821d24d",
   "metadata": {},
   "outputs": [
    {
     "data": {
      "text/plain": [
       "True"
      ]
     },
     "execution_count": 43,
     "metadata": {},
     "output_type": "execute_result"
    }
   ],
   "source": [
    "'cat' in spam.keys()"
   ]
  },
  {
   "cell_type": "markdown",
   "id": "4f9cd365-a502-4b96-abcc-3374e57b5923",
   "metadata": {},
   "source": [
    "QUESTION_6\n",
    "\n",
    "If a dictionary is stored in spam, what is the difference between the expressions 'cat' in spam and 'cat' in spam.values()?"
   ]
  },
  {
   "cell_type": "raw",
   "id": "24e16b1e-0f6d-47cd-b4b1-af5e41aea8e6",
   "metadata": {},
   "source": [
    "Ans: There is no difference"
   ]
  },
  {
   "cell_type": "code",
   "execution_count": 26,
   "id": "ce402123-d5f2-40f2-bd34-ff635d062292",
   "metadata": {},
   "outputs": [],
   "source": [
    "spam = {'cat' : 'cat'} #dictionary created with cat key and cat value"
   ]
  },
  {
   "cell_type": "code",
   "execution_count": 27,
   "id": "db66335d-d5e2-4860-9479-6b361d2ac5c8",
   "metadata": {},
   "outputs": [
    {
     "data": {
      "text/plain": [
       "True"
      ]
     },
     "execution_count": 27,
     "metadata": {},
     "output_type": "execute_result"
    }
   ],
   "source": [
    "'cat' in spam #this will look for cat key in the dictionary and since the key is available, the program returns True"
   ]
  },
  {
   "cell_type": "code",
   "execution_count": 28,
   "id": "c028c14e-e7d9-4fbb-aeae-761ff2a0b118",
   "metadata": {},
   "outputs": [
    {
     "data": {
      "text/plain": [
       "True"
      ]
     },
     "execution_count": 28,
     "metadata": {},
     "output_type": "execute_result"
    }
   ],
   "source": [
    "'cat' in spam.values() #this will look for cat value for one of the keys in and spam and as the value exists, it returns True"
   ]
  },
  {
   "cell_type": "markdown",
   "id": "f811885c-6e47-4e53-ab39-b08fc25a7702",
   "metadata": {},
   "source": [
    "QUESTION_7\n",
    "\n",
    "What is a shortcut for the following code?\n",
    "if 'color' not in spam:\n",
    "spam['color'] = 'black'"
   ]
  },
  {
   "cell_type": "code",
   "execution_count": 55,
   "id": "5205373f-6aaa-4355-8d79-11ba45daa476",
   "metadata": {},
   "outputs": [
    {
     "data": {
      "text/plain": [
       "'black'"
      ]
     },
     "execution_count": 55,
     "metadata": {},
     "output_type": "execute_result"
    }
   ],
   "source": [
    "spam.setdefault('color', 'black')"
   ]
  },
  {
   "cell_type": "markdown",
   "id": "1300a1cb-61ed-40a7-97d3-a3344fd6741e",
   "metadata": {},
   "source": [
    "QUESTION_*\n",
    "\n",
    "How do you \"pretty print\" dictionary values using which module and function?"
   ]
  },
  {
   "cell_type": "raw",
   "id": "a01ed4ce-9a78-477a-98a8-f9823bfb96ab",
   "metadata": {},
   "source": [
    "Ans: The module will be \"pprint\" and the Function will be \"pprint()\", please refer to the below example."
   ]
  },
  {
   "cell_type": "code",
   "execution_count": 60,
   "id": "6b28e68b-e44d-411e-9e77-2ffdcc0e0a72",
   "metadata": {},
   "outputs": [],
   "source": [
    "import pprint #importing a preety print module\n",
    "\n",
    "my_dict = [{'name':'ketan', 'age':'30','gender':'male','country':'india'}, #creating a new dictionary called my_dict\n",
    "           {'name':'rahul', 'age':'31','gender':'male','country':'usa'},\n",
    "           {'name':'sharon', 'age':'29','gender':'female','country':'canada'},\n",
    "           {'name':'ramy', 'age':'32','gender':'male','country':'india'}]"
   ]
  },
  {
   "cell_type": "code",
   "execution_count": 66,
   "id": "505f7604-492b-404e-9fe8-360842140624",
   "metadata": {},
   "outputs": [
    {
     "name": "stdout",
     "output_type": "stream",
     "text": [
      "[{'age': '30', 'country': 'india', 'gender': 'male', 'name': 'ketan'},\n",
      " {'age': '31', 'country': 'usa', 'gender': 'male', 'name': 'rahul'},\n",
      " {'age': '29', 'country': 'canada', 'gender': 'female', 'name': 'sharon'},\n",
      " {'age': '32', 'country': 'india', 'gender': 'male', 'name': 'ramy'}]\n"
     ]
    }
   ],
   "source": [
    "pprint.pprint(my_dict) #printing with pprint() function"
   ]
  },
  {
   "cell_type": "code",
   "execution_count": 68,
   "id": "85a9797b-3b4d-4765-a9ac-572c6b5c2036",
   "metadata": {},
   "outputs": [
    {
     "data": {
      "text/plain": [
       "[{'name': 'ketan', 'age': '30', 'gender': 'male', 'country': 'india'},\n",
       " {'name': 'rahul', 'age': '31', 'gender': 'male', 'country': 'usa'},\n",
       " {'name': 'sharon', 'age': '29', 'gender': 'female', 'country': 'canada'},\n",
       " {'name': 'ramy', 'age': '32', 'gender': 'male', 'country': 'india'}]"
      ]
     },
     "execution_count": 68,
     "metadata": {},
     "output_type": "execute_result"
    }
   ],
   "source": [
    "my_dict #printing without pprint() function"
   ]
  }
 ],
 "metadata": {
  "kernelspec": {
   "display_name": "Python 3 (ipykernel)",
   "language": "python",
   "name": "python3"
  },
  "language_info": {
   "codemirror_mode": {
    "name": "ipython",
    "version": 3
   },
   "file_extension": ".py",
   "mimetype": "text/x-python",
   "name": "python",
   "nbconvert_exporter": "python",
   "pygments_lexer": "ipython3",
   "version": "3.10.6"
  }
 },
 "nbformat": 4,
 "nbformat_minor": 5
}
