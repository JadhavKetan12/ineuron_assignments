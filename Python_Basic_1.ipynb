{
 "cells": [
  {
   "cell_type": "markdown",
   "id": "cee73872-c9d7-4891-88fb-10589266fd8a",
   "metadata": {},
   "source": [
    "QUESTION_1\n",
    "\n",
    "What are keywords in python? Using the keyword library, print all the python keywords"
   ]
  },
  {
   "cell_type": "raw",
   "id": "81b75ce2-829c-4f5e-a739-321f3680f1f1",
   "metadata": {},
   "source": [
    "Ans: Keyword are reserved words/terms with predefined meaning and functionality. Below is the list of keywords used in Python."
   ]
  },
  {
   "cell_type": "code",
   "execution_count": 5,
   "id": "220efb30-9d3a-4f7f-b985-9587ce55387c",
   "metadata": {},
   "outputs": [
    {
     "data": {
      "text/plain": [
       "['False',\n",
       " 'None',\n",
       " 'True',\n",
       " 'and',\n",
       " 'as',\n",
       " 'assert',\n",
       " 'async',\n",
       " 'await',\n",
       " 'break',\n",
       " 'class',\n",
       " 'continue',\n",
       " 'def',\n",
       " 'del',\n",
       " 'elif',\n",
       " 'else',\n",
       " 'except',\n",
       " 'finally',\n",
       " 'for',\n",
       " 'from',\n",
       " 'global',\n",
       " 'if',\n",
       " 'import',\n",
       " 'in',\n",
       " 'is',\n",
       " 'lambda',\n",
       " 'nonlocal',\n",
       " 'not',\n",
       " 'or',\n",
       " 'pass',\n",
       " 'raise',\n",
       " 'return',\n",
       " 'try',\n",
       " 'while',\n",
       " 'with',\n",
       " 'yield']"
      ]
     },
     "execution_count": 5,
     "metadata": {},
     "output_type": "execute_result"
    }
   ],
   "source": [
    "import keyword\n",
    "keyword.kwlist"
   ]
  },
  {
   "cell_type": "markdown",
   "id": "6b0561d0-ed6e-402f-8d8d-c501805d86a9",
   "metadata": {},
   "source": [
    "QUESTION_2\n",
    "\n",
    "What are the rules to create variables in python?"
   ]
  },
  {
   "cell_type": "raw",
   "id": "7291c176-584e-4fbc-aed7-60c373b78d96",
   "metadata": {},
   "source": [
    "Ans: A reserve word cannot be used as a variable name, e.g. - False, True, as, pass, etc.\n",
    "     A variable name must start with a letter or the underscore character, e.g. - abc, xyz, _var1, var2 etc.\n",
    "     A variable name cannot start with a number, e.g. 1var, 2var, 123abc etc.\n",
    "     A variable name can only contain alpha-numeric characters and underscores (A-z, 0-9, and _ )\n",
    "     Variable names are case-sensitive (var, Var and VAR are three different variables)"
   ]
  },
  {
   "cell_type": "markdown",
   "id": "731805a2-0bb2-4953-9d7e-d895042140c2",
   "metadata": {},
   "source": [
    "QUESTION_3\n",
    "\n",
    "What are the standards and conventions followed for the nomenclature of variables in\n",
    "python to improve code readability and maintainability?"
   ]
  },
  {
   "cell_type": "markdown",
   "id": "cec37b37-d427-46ed-9b55-e5ad6e73a4ce",
   "metadata": {},
   "source": [
    "Ans: In Python, the names of variables and functions should be lowercase. Individual words can be separated by\n",
    "     underscores when needed. This will improve readability within your code. Method names should follow the same\n",
    "     conventions as function names. Variable names in Python can be any length and can consist of uppercase and\n",
    "     lowercase letters ( A-Z , a-z ), digits ( 0-9 ), and the underscore character ( _ ). An additional\n",
    "     restriction is that, although a variable name can contain digits, the first character of a variable name\n",
    "     can't be a digit."
   ]
  },
  {
   "cell_type": "markdown",
   "id": "17d80066-75f9-484e-a0ab-9a0906605853",
   "metadata": {},
   "source": [
    "QUESTION_4\n",
    "\n",
    "What will happen if a keyword is used as a variable name?"
   ]
  },
  {
   "cell_type": "raw",
   "id": "74e6b282-06e3-4785-843b-adef208a6ee5",
   "metadata": {},
   "source": [
    "Ans: The code will throw a systax error, please refer to the below example for your reference."
   ]
  },
  {
   "cell_type": "code",
   "execution_count": 11,
   "id": "0ebeae8b-c8de-4c7f-8097-4fc5eb8599bf",
   "metadata": {},
   "outputs": [
    {
     "ename": "SyntaxError",
     "evalue": "cannot assign to True (2253106249.py, line 1)",
     "output_type": "error",
     "traceback": [
      "\u001b[0;36m  Cell \u001b[0;32mIn [11], line 1\u001b[0;36m\u001b[0m\n\u001b[0;31m    True = 'ketan' #True is a keyword\u001b[0m\n\u001b[0m    ^\u001b[0m\n\u001b[0;31mSyntaxError\u001b[0m\u001b[0;31m:\u001b[0m cannot assign to True\n"
     ]
    }
   ],
   "source": [
    "True = 'ketan' #True is a keyword\n",
    "and = '123'  #and is a keyword\n",
    "as = 'hello'  #as is a keyword"
   ]
  },
  {
   "cell_type": "markdown",
   "id": "41231d70-7ae4-4741-878b-b73b87f15e00",
   "metadata": {},
   "source": [
    "QUESTION_5\n",
    "\n",
    "For what purpose def keyword is used?"
   ]
  },
  {
   "cell_type": "raw",
   "id": "fe9cd4be-8a0b-42bc-bc36-217489745f71",
   "metadata": {},
   "source": [
    "Ans: The def() keyword in python is used to define the function that we can use to built our own function."
   ]
  },
  {
   "cell_type": "code",
   "execution_count": 24,
   "id": "c15e5be4-7acf-4554-92f7-8c79465d4e9e",
   "metadata": {},
   "outputs": [
    {
     "name": "stdout",
     "output_type": "stream",
     "text": [
      "My New Function\n"
     ]
    }
   ],
   "source": [
    "#Example\n",
    "\n",
    "def my_func():  #defining a new function called my_func()\n",
    "    print(\"My New Function\")  #statement/code tp be executed while this function is called\n",
    "my_func() #calling this function prints \"My New Function\" as mentioned below."
   ]
  },
  {
   "cell_type": "markdown",
   "id": "77bda42c-e815-4b7e-97fd-1c8df303ea94",
   "metadata": {},
   "source": [
    "QUESTION_6\n",
    "\n",
    "What is the operation of this special character ‘\\’?"
   ]
  },
  {
   "cell_type": "raw",
   "id": "770977a9-6eec-46f6-af20-c04014978bd2",
   "metadata": {},
   "source": [
    "Ans: The backslash is special character, also know as escape character. It is used in representing certain\n",
    "     whitespace characters: \"\\t\" is a tab, \"\\n\" is a newline, and \"\\r\" is a carriage return."
   ]
  },
  {
   "cell_type": "code",
   "execution_count": 29,
   "id": "f21a0e89-da51-414c-bd3e-1c3be6034ef2",
   "metadata": {},
   "outputs": [
    {
     "name": "stdout",
     "output_type": "stream",
     "text": [
      "hello\tworld\n",
      "\\ is a backslash\n"
     ]
    }
   ],
   "source": [
    "#Examples\n",
    "\n",
    "print('hello\\tworld') #\\t gives a tab after hellow and then prints world\n",
    "print('\\\\ is a backslash')#if you want to show \\ use it twice \\\\ as shown in the example."
   ]
  },
  {
   "cell_type": "markdown",
   "id": "e32efe69-d53d-48d8-8be9-09a61984eb75",
   "metadata": {},
   "source": [
    "QUESTION_7\n",
    "\n",
    "Give an example of the following conditions:"
   ]
  },
  {
   "cell_type": "code",
   "execution_count": 35,
   "id": "0cb49bdb-d195-4abc-a775-e581ef0944ee",
   "metadata": {},
   "outputs": [
    {
     "name": "stdout",
     "output_type": "stream",
     "text": [
      "['hello', 'python', 'var']\n",
      "{'apple', 98.6, 123}\n",
      "('train', 'bus', 'car')\n"
     ]
    }
   ],
   "source": [
    "homo_list = [\"hello\",\"python\",\"var\"]#Homogeneous list example, lists are List items are ordered, changeable, and allow duplicate values\n",
    "print(homo_list) #printing list\n",
    "hetero_set =  {\"apple\",123,98.60} #Heterogeneous set: set items can be of any datatype, the set list is unordered, meaning: the items will appear in a random order\n",
    "print(hetero_set) #printing set\n",
    "homo_tuple = ('train','bus','car')     #Homogeneous tuple: items with same datatype, A tuple is a collection which is ordered and unchangeable\n",
    "print(homo_tuple)#printing tuple"
   ]
  },
  {
   "cell_type": "markdown",
   "id": "1540dd12-5116-4c83-8db4-13c38c3dc33a",
   "metadata": {},
   "source": [
    "QUESTION_8\n",
    "\n",
    "Explain the mutable and immutable data types with proper explanation & examples."
   ]
  },
  {
   "cell_type": "raw",
   "id": "f9d34ea2-7ea0-4312-b149-6ff586122f1e",
   "metadata": {},
   "source": [
    "Ans: A mutable object can be changed/altered after it is created, e.g. - lists, sets, dictionaries.\n",
    "     An immutable object cannot be changed/altered after it is created, e.g. - tuples, bool value etc."
   ]
  },
  {
   "cell_type": "code",
   "execution_count": 42,
   "id": "0dba60a9-ce27-453a-9ca0-a830d53d222d",
   "metadata": {},
   "outputs": [
    {
     "data": {
      "text/plain": [
       "['python', 'java', 'sql']"
      ]
     },
     "execution_count": 42,
     "metadata": {},
     "output_type": "execute_result"
    }
   ],
   "source": [
    "my_list = ['python', 'java', 'sql'] #creating a new list\n",
    "my_list #printing a list"
   ]
  },
  {
   "cell_type": "code",
   "execution_count": 43,
   "id": "798d68d6-17ef-4995-b6ae-51e30313e23b",
   "metadata": {},
   "outputs": [
    {
     "data": {
      "text/plain": [
       "['python', 'java', 'sql', '.net']"
      ]
     },
     "execution_count": 43,
     "metadata": {},
     "output_type": "execute_result"
    }
   ],
   "source": [
    "my_list.append('.net')#updating a list\n",
    "my_list #printing same list after updating it, meaning the lists are mutable or changeable"
   ]
  },
  {
   "cell_type": "code",
   "execution_count": 45,
   "id": "cc0e4503-3f3e-424f-8ad6-9a20aff354ea",
   "metadata": {},
   "outputs": [
    {
     "data": {
      "text/plain": [
       "('car', 'bus', 'train')"
      ]
     },
     "execution_count": 45,
     "metadata": {},
     "output_type": "execute_result"
    }
   ],
   "source": [
    "my_tuple = ('car','bus','train') #creating a new tuple\n",
    "my_tuple #printing a tuple"
   ]
  },
  {
   "cell_type": "code",
   "execution_count": 48,
   "id": "c96b7e1f-4d9c-4222-892d-f2d1f9a07647",
   "metadata": {},
   "outputs": [
    {
     "ename": "AttributeError",
     "evalue": "'tuple' object has no attribute 'insert'",
     "output_type": "error",
     "traceback": [
      "\u001b[0;31m---------------------------------------------------------------------------\u001b[0m",
      "\u001b[0;31mAttributeError\u001b[0m                            Traceback (most recent call last)",
      "Cell \u001b[0;32mIn [48], line 1\u001b[0m\n\u001b[0;32m----> 1\u001b[0m \u001b[43mmy_tuple\u001b[49m\u001b[38;5;241;43m.\u001b[39;49m\u001b[43minsert\u001b[49m(\u001b[38;5;124m'\u001b[39m\u001b[38;5;124mbike\u001b[39m\u001b[38;5;124m'\u001b[39m)\n",
      "\u001b[0;31mAttributeError\u001b[0m: 'tuple' object has no attribute 'insert'"
     ]
    }
   ],
   "source": [
    "my_tuple.insert('bike') #trying to update the same tuple, however it gives an error as the tuples are immutable"
   ]
  },
  {
   "cell_type": "markdown",
   "id": "0915d2a6-907a-488f-a888-0179e95ab343",
   "metadata": {},
   "source": [
    "QUESTION_9\n",
    "\n",
    "Write a code to create the given structure using only for loop"
   ]
  },
  {
   "cell_type": "code",
   "execution_count": null,
   "id": "b0713ead-6afb-43e4-95ea-7b102e92bd97",
   "metadata": {},
   "outputs": [],
   "source": [
    "n = 5 \n",
    "for i in range(n):\n",
    "  for j in range(i, n): \n",
    "     print(' ', end='') \n",
    "  for j in range(i+1):\n",
    "     print('*', end='')\n",
    "  for j in range(i):\n",
    "     print('*', end='')\n",
    "  for j in range(i): \n",
    "     print(' ', end='') \n",
    "  print()"
   ]
  },
  {
   "cell_type": "markdown",
   "id": "c5493e4d-e4cd-4344-a686-0b021e7f12d7",
   "metadata": {},
   "source": [
    "QUESTION_10\n",
    "\n",
    "Write a code to create the given structure using while loop"
   ]
  },
  {
   "cell_type": "code",
   "execution_count": null,
   "id": "23a50b32-bc5b-4d37-8d2a-ecfc2879c54f",
   "metadata": {},
   "outputs": [],
   "source": [
    "i = 0\n",
    "j = 5\n",
    "while i < 5:\n",
    "    print(\" \"*(i*1) + \"|\"*((j*2)-1))\n",
    "    i +=1\n",
    "    j -=1"
   ]
  },
  {
   "cell_type": "code",
   "execution_count": null,
   "id": "171c6e6d-6838-4ed4-acf9-fcbbdb57a9c1",
   "metadata": {},
   "outputs": [],
   "source": []
  }
 ],
 "metadata": {
  "kernelspec": {
   "display_name": "Python 3 (ipykernel)",
   "language": "python",
   "name": "python3"
  },
  "language_info": {
   "codemirror_mode": {
    "name": "ipython",
    "version": 3
   },
   "file_extension": ".py",
   "mimetype": "text/x-python",
   "name": "python",
   "nbconvert_exporter": "python",
   "pygments_lexer": "ipython3",
   "version": "3.10.6"
  }
 },
 "nbformat": 4,
 "nbformat_minor": 5
}
