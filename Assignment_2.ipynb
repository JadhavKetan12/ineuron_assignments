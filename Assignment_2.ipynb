{
 "cells": [
  {
   "cell_type": "markdown",
   "id": "f2e800ca-82ca-40a8-8091-e0aa76261de1",
   "metadata": {},
   "source": [
    "QUESTION_1\n",
    "\n",
    "What are the two values of the Boolean data type? How do you write them?"
   ]
  },
  {
   "cell_type": "raw",
   "id": "6409f50c-e0be-40ec-a97b-e69740529da4",
   "metadata": {},
   "source": [
    "Ans: Two possible values of boolean are \"True\" and \"False\". The initial letter must be in capital while using it, e.g. True, False."
   ]
  },
  {
   "cell_type": "markdown",
   "id": "2820b1da-0ecc-44ca-91cd-7de498efa4e5",
   "metadata": {},
   "source": [
    "QUESTION_2\n",
    "\n",
    "What are the three different types of Boolean operators?"
   ]
  },
  {
   "cell_type": "raw",
   "id": "67456ceb-8839-4389-b80f-296258437184",
   "metadata": {},
   "source": [
    "Ans: The three basic boolean operators are: AND, OR, and NOT."
   ]
  },
  {
   "cell_type": "markdown",
   "id": "4d42ce08-1805-4c42-8fe5-9089b27c4d16",
   "metadata": {},
   "source": [
    "QUESTION_3\n",
    "\n",
    "Make a list of each Boolean operator's truth tables (i.e. every possible combination of Boolean values for the operator and what it evaluate )."
   ]
  },
  {
   "cell_type": "raw",
   "id": "f4efb11b-0e52-4cca-84c2-effb600de126",
   "metadata": {},
   "source": [
    "Ans: and Condition Combinations\n",
    "                    True and True = True\n",
    "                    True AND False = False\n",
    "                    False and True = False\n",
    "                    False and False = False\n",
    "                    \n",
    "     or Condition Combinations\n",
    "                   True or True = True\n",
    "                   True or False = True\n",
    "                   False or True = True\n",
    "                   False or False = False\n",
    "                    \n",
    "     NOT Condition Combinations\n",
    "                   not True = False\n",
    "                   not False = True\n",
    "                    \n",
    "     Truth Table for and\n",
    "     If A and B, then: C\n",
    "                   A\tB\tC\n",
    "                   1\t1\t1\n",
    "                   1\t0\t0\n",
    "                   0\t1\t0\n",
    "                   0\t0\t0\n",
    "                   \n",
    "     Truth Table for or\n",
    "     If A or B, then: C\n",
    "                   A\tB\tC\n",
    "                   1\t1\t1\n",
    "                   1\t0\t1\n",
    "                   0\t1\t1\n",
    "                   0\t0\t0  \n",
    "     Truth Table for not\n",
    "                   0    1\n",
    "                   1    0\n",
    "                            "
   ]
  },
  {
   "cell_type": "markdown",
   "id": "824e0e1c-3ead-45ea-aeae-f619b6d08c82",
   "metadata": {},
   "source": [
    "QUESTION_4\n",
    "\n",
    "What are the values of the following expressions?"
   ]
  },
  {
   "cell_type": "raw",
   "id": "6fe5a399-a891-4308-9b6b-0ec2c59fd688",
   "metadata": {},
   "source": [
    "Ans: (5 > 4) and (3 == 5) = False\n",
    "     not (5 > 4) = False\n",
    "     (5 > 4) or (3 == 5) = True\n",
    "     not ((5 > 4) or (3 == 5)) = False\n",
    "     (True and True) and (True == False) = False\n",
    "     (not False) or (not True) = True"
   ]
  },
  {
   "cell_type": "code",
   "execution_count": 10,
   "id": "b09a63a9-f211-4fe3-ac7c-95388ab5128d",
   "metadata": {},
   "outputs": [
    {
     "data": {
      "text/plain": [
       "False"
      ]
     },
     "execution_count": 10,
     "metadata": {},
     "output_type": "execute_result"
    }
   ],
   "source": [
    "(5 > 4) and (3 == 5)"
   ]
  },
  {
   "cell_type": "code",
   "execution_count": 11,
   "id": "87b217d1-7d8b-45a0-be20-413e6c9b5ddf",
   "metadata": {},
   "outputs": [
    {
     "data": {
      "text/plain": [
       "False"
      ]
     },
     "execution_count": 11,
     "metadata": {},
     "output_type": "execute_result"
    }
   ],
   "source": [
    "(5 > 4) and (3 == 5)"
   ]
  },
  {
   "cell_type": "code",
   "execution_count": 12,
   "id": "79c9741b-067a-475b-a47e-26f6adb7c620",
   "metadata": {},
   "outputs": [
    {
     "data": {
      "text/plain": [
       "True"
      ]
     },
     "execution_count": 12,
     "metadata": {},
     "output_type": "execute_result"
    }
   ],
   "source": [
    "(5 > 4) or (3 == 5)"
   ]
  },
  {
   "cell_type": "code",
   "execution_count": 13,
   "id": "8052c744-9c14-49bb-b666-4a1b1b819075",
   "metadata": {},
   "outputs": [
    {
     "data": {
      "text/plain": [
       "False"
      ]
     },
     "execution_count": 13,
     "metadata": {},
     "output_type": "execute_result"
    }
   ],
   "source": [
    "not ((5 > 4) or (3 == 5))"
   ]
  },
  {
   "cell_type": "code",
   "execution_count": 14,
   "id": "6ff632ef-7839-48c0-a3b1-acc7386d7df5",
   "metadata": {},
   "outputs": [
    {
     "data": {
      "text/plain": [
       "False"
      ]
     },
     "execution_count": 14,
     "metadata": {},
     "output_type": "execute_result"
    }
   ],
   "source": [
    "(True and True) and (True == False)"
   ]
  },
  {
   "cell_type": "code",
   "execution_count": 15,
   "id": "6b18ae2b-e58a-4b14-add5-c30188b7e530",
   "metadata": {},
   "outputs": [
    {
     "data": {
      "text/plain": [
       "True"
      ]
     },
     "execution_count": 15,
     "metadata": {},
     "output_type": "execute_result"
    }
   ],
   "source": [
    "(not False) or (not True)"
   ]
  },
  {
   "cell_type": "markdown",
   "id": "0eee3dd5-ddd0-4b27-a155-08e37d4ba89d",
   "metadata": {},
   "source": [
    "QUESTION_5\n",
    "\n",
    "What are the six comparison operators?"
   ]
  },
  {
   "cell_type": "raw",
   "id": "f62044ce-7b23-4629-8a47-03d17308ffc1",
   "metadata": {},
   "source": [
    "Ans: <, >, <=, >=, ==, !="
   ]
  },
  {
   "cell_type": "markdown",
   "id": "001d68c5-0283-42fb-948b-913b9351c1bf",
   "metadata": {},
   "source": [
    "QUESTION_6\n",
    "\n",
    "How do you tell the difference between the equal to and assignment operators? Describe a condition and when you would use one."
   ]
  },
  {
   "cell_type": "raw",
   "id": "5cbbc1c5-ea40-43e2-bc92-740ade42ca17",
   "metadata": {},
   "source": [
    "Ans: = is an assignment operator that is used to assign a value to any variable.\n",
    "     == is an equal operator used to compare two values and return evaluates to boolean."
   ]
  },
  {
   "cell_type": "code",
   "execution_count": 7,
   "id": "1696676d-686d-489b-93c1-9b6124bf8eb7",
   "metadata": {},
   "outputs": [
    {
     "name": "stdout",
     "output_type": "stream",
     "text": [
      "False\n"
     ]
    }
   ],
   "source": [
    "if 10 == 5:  # here the condition compares two values are equal or not, i.e 10 is equal to 5 or not and return boolean True or False based on the condition\n",
    "    print(\"True\")\n",
    "else:\n",
    "    print(\"False\")"
   ]
  },
  {
   "cell_type": "code",
   "execution_count": 9,
   "id": "d6dcb267-647c-4dbf-b98e-3a2ca50e38cd",
   "metadata": {},
   "outputs": [],
   "source": [
    "name = \"test\"  # here va;ue \"test\" has been assigned to variable name using assignment(=) operator"
   ]
  },
  {
   "cell_type": "markdown",
   "id": "59f7f496-b840-4e42-9dfe-940dc9fc71ed",
   "metadata": {},
   "source": [
    "QUESTION_7\n",
    "\n",
    "Identify the three blocks in this code:"
   ]
  },
  {
   "cell_type": "code",
   "execution_count": 1,
   "id": "3b52440c-7f57-4485-822c-a1d45a408f4a",
   "metadata": {},
   "outputs": [
    {
     "name": "stdout",
     "output_type": "stream",
     "text": [
      "ham\n",
      "spam\n",
      "spam\n"
     ]
    }
   ],
   "source": [
    "spam = 0\n",
    "if spam == 10:\n",
    "    print('eggs') # block_1\n",
    "if spam > 5:\n",
    "    print('bacon') # block_2\n",
    "else:\n",
    "    print('ham') # block_3\n",
    "    print('spam')\n",
    "    print('spam')"
   ]
  },
  {
   "cell_type": "markdown",
   "id": "5c141abe-8eb5-40a7-b015-de98187d4001",
   "metadata": {},
   "source": [
    "QUESTION_8\n",
    "\n",
    "Write code that prints Hello if 1 is stored in spam, prints Howdy if 2 is stored in spam, and prints Greetings! if anything else is stored in spam."
   ]
  },
  {
   "cell_type": "code",
   "execution_count": 18,
   "id": "e4a2f4df-35d6-46e4-b31e-103cc5b70e56",
   "metadata": {},
   "outputs": [
    {
     "name": "stdin",
     "output_type": "stream",
     "text": [
      "Enter a number:  1\n"
     ]
    },
    {
     "name": "stdout",
     "output_type": "stream",
     "text": [
      "Hello\n"
     ]
    }
   ],
   "source": [
    "spam = int(input(\"Enter a number: \"))\n",
    "\n",
    "if spam == 1:\n",
    "    print(\"Hello\")\n",
    "elif spam == 2:\n",
    "    print(\"Howdy\")\n",
    "else:\n",
    "    print(\"Greetings!\")"
   ]
  },
  {
   "cell_type": "code",
   "execution_count": 19,
   "id": "53ca979e-7011-4fde-a05b-a64d601c7b72",
   "metadata": {},
   "outputs": [
    {
     "name": "stdin",
     "output_type": "stream",
     "text": [
      "Enter a number:  2\n"
     ]
    },
    {
     "name": "stdout",
     "output_type": "stream",
     "text": [
      "Howdy\n"
     ]
    }
   ],
   "source": [
    "spam = int(input(\"Enter a number: \"))\n",
    "\n",
    "if spam == 1:\n",
    "    print(\"Hello\")\n",
    "elif spam == 2:\n",
    "    print(\"Howdy\")\n",
    "else:\n",
    "    print(\"Greetings!\")"
   ]
  },
  {
   "cell_type": "code",
   "execution_count": 20,
   "id": "d28a81d8-6bbc-4d25-86e1-5acf5e5e7f50",
   "metadata": {},
   "outputs": [
    {
     "name": "stdin",
     "output_type": "stream",
     "text": [
      "Enter a number:  23\n"
     ]
    },
    {
     "name": "stdout",
     "output_type": "stream",
     "text": [
      "Greetings!\n"
     ]
    }
   ],
   "source": [
    "spam = int(input(\"Enter a number: \"))\n",
    "\n",
    "if spam == 1:\n",
    "    print(\"Hello\")\n",
    "elif spam == 2:\n",
    "    print(\"Howdy\")\n",
    "else:\n",
    "    print(\"Greetings!\")"
   ]
  },
  {
   "cell_type": "markdown",
   "id": "99e67428-43e8-4683-8bde-ec87d7846e20",
   "metadata": {},
   "source": [
    "QUESTION_9\n",
    "\n",
    "If your programme is stuck in an endless loop, what keys you’ll press?"
   ]
  },
  {
   "cell_type": "raw",
   "id": "a254588a-ae1d-4f57-b19b-4c7a8dd55b51",
   "metadata": {},
   "source": [
    "Ans: Ctrl + c will help us exit the endless loop."
   ]
  },
  {
   "cell_type": "markdown",
   "id": "7e198419-f9f1-471f-a3e9-6435ae570886",
   "metadata": {},
   "source": [
    "QUESTION_10\n",
    "\n",
    "How can you tell the difference between break and continue?"
   ]
  },
  {
   "cell_type": "raw",
   "id": "2b9a7b29-6c14-40ae-b500-c6efa8bbc3df",
   "metadata": {},
   "source": [
    "Ans: 1) break(): it is used to break the statement/condition in which it is present.\n",
    "     2) continue(): skips the current iteration of the loop and continues the from the start point/next iteration.\n",
    "      \n",
    "     Please refer to the below code."
   ]
  },
  {
   "cell_type": "code",
   "execution_count": 28,
   "id": "69e334b4-17a1-4efd-839d-a22ee51dc77c",
   "metadata": {},
   "outputs": [
    {
     "name": "stdout",
     "output_type": "stream",
     "text": [
      "0\n",
      "1\n",
      "2\n",
      "3\n",
      "4\n",
      "loop broke\n"
     ]
    }
   ],
   "source": [
    "for i in range(10):\n",
    "    if(i==5):\n",
    "        break   #break function\n",
    "    print(i)\n",
    "print(\"loop broke\")   # as soon as the i matches 5 the loop breaks and code stops running further"
   ]
  },
  {
   "cell_type": "code",
   "execution_count": 24,
   "id": "b81bb89e-2e57-421d-8a09-8c148b28a73e",
   "metadata": {},
   "outputs": [
    {
     "name": "stdout",
     "output_type": "stream",
     "text": [
      "0\n",
      "1\n",
      "2\n",
      "3\n",
      "4\n",
      "6\n",
      "7\n",
      "8\n",
      "9\n"
     ]
    }
   ],
   "source": [
    "for i in range(10):\n",
    "    if(i==5):\n",
    "        continue   #continue function, as soon as the i matches value of 5 the loop skips the statement and goes to the next iteration/start point\n",
    "    print(i)"
   ]
  },
  {
   "cell_type": "markdown",
   "id": "14875f9c-ecfd-4669-a06e-75f1998aa723",
   "metadata": {},
   "source": [
    "QUESTION_11\n",
    "\n",
    "In a for loop, what is the difference between range(10), range(0, 10), and range(0, 10, 1)?"
   ]
  },
  {
   "cell_type": "raw",
   "id": "c8118ed0-596b-42ed-b897-d0e3d7ec87c6",
   "metadata": {},
   "source": [
    "Ans: Definition:\n",
    "           range (stop) - takes one argument and the start point is always 0 by default.\n",
    "           range (start, stop) takes two arguments, start point and end point.\n",
    "           range (start, stop, step) takes three arguments, start point, end point and raise to the next step by numbers mentioned in step argument.\n",
    "      \n",
    "     Examples:\n",
    "           range(5) = it will print digits from 0 to 4. start point is not declated however it automatically starts from index 0 by detauls.\n",
    "           range(0, 7) = it will print digits 0 to 6 as the start and end point is defined in the arguments. The index starts from 0 and the second argument is considered 1 less than the actual value. \n",
    "           range(0, 10, 2) = this will print 0,2,4,6, and 8. The start point is 0 and end point is 10 however we are raising with 2 while moving to the next step hence all the odd numbers are skipped.\n",
    "      \n",
    "           Please refer to the below code for  your reference."
   ]
  },
  {
   "cell_type": "code",
   "execution_count": 40,
   "id": "e1f6aae0-a5aa-4a2a-86ef-046068faf99f",
   "metadata": {},
   "outputs": [
    {
     "name": "stdout",
     "output_type": "stream",
     "text": [
      "0\n",
      "1\n",
      "2\n",
      "3\n",
      "4\n"
     ]
    }
   ],
   "source": [
    "for i in range(5):  # range(10) example\n",
    "    print(i)"
   ]
  },
  {
   "cell_type": "code",
   "execution_count": 41,
   "id": "184104e0-8a27-49a2-aa7f-949577653577",
   "metadata": {},
   "outputs": [
    {
     "name": "stdout",
     "output_type": "stream",
     "text": [
      "0\n",
      "1\n",
      "2\n",
      "3\n",
      "4\n",
      "5\n",
      "6\n"
     ]
    }
   ],
   "source": [
    "for i in range(0,7):  # range(0,10) example\n",
    "    print(i)"
   ]
  },
  {
   "cell_type": "code",
   "execution_count": 42,
   "id": "f8acca70-a860-4967-a276-e903a36caa04",
   "metadata": {},
   "outputs": [
    {
     "name": "stdout",
     "output_type": "stream",
     "text": [
      "0\n",
      "2\n",
      "4\n",
      "6\n",
      "8\n"
     ]
    }
   ],
   "source": [
    "for i in range(0,10,2):  # range(0,10,2) example\n",
    "    print(i)"
   ]
  },
  {
   "cell_type": "markdown",
   "id": "20e2c632-25bd-43e7-b8c6-fa9e398ec0aa",
   "metadata": {},
   "source": [
    "QUESTION_12\n",
    "\n",
    "Write a short program that prints the numbers 1 to 10 using a for loop. Then write an equivalent program that prints the numbers 1 to 10 using a while loop."
   ]
  },
  {
   "cell_type": "code",
   "execution_count": 1,
   "id": "7f836046-458c-4567-a436-e425eefabebe",
   "metadata": {},
   "outputs": [
    {
     "name": "stdout",
     "output_type": "stream",
     "text": [
      "1\n",
      "2\n",
      "3\n",
      "4\n",
      "5\n",
      "6\n",
      "7\n",
      "8\n",
      "9\n",
      "10\n"
     ]
    }
   ],
   "source": [
    "for i in range(1,11): # for loop printing numbers from 1 to 10\n",
    "    print(i)"
   ]
  },
  {
   "cell_type": "markdown",
   "id": "d1d1d84a-d3d5-44bd-8b42-6109c2c80773",
   "metadata": {},
   "source": [
    "QUESTION_13\n",
    "\n",
    "If you had a function named bacon() inside a module named spam, how would you call it after importing spam?"
   ]
  },
  {
   "cell_type": "raw",
   "id": "a061cd25-ea63-4576-b540-f02cce200dfd",
   "metadata": {},
   "source": [
    "Ans: The function can be called using the below mentioned format.\n",
    "     spam.bacon()\n",
    "      \n",
    "     Please refer to the below example for your reference."
   ]
  },
  {
   "cell_type": "code",
   "execution_count": 4,
   "id": "e6107464-bea1-42ab-8354-add7d5a5357f",
   "metadata": {},
   "outputs": [
    {
     "data": {
      "text/plain": [
       "11"
      ]
     },
     "execution_count": 4,
     "metadata": {},
     "output_type": "execute_result"
    }
   ],
   "source": [
    "import math   #here we are importing the modul called \"math\"\n",
    "\n",
    "math.ceil(10.10)   #here we are calling the \"ceil()\" function which is a function of module \"math\"\n",
    "                   #ceil() function rounds a number(passed in the argument) UP to the nearest integer which is 11 for this example "
   ]
  }
 ],
 "metadata": {
  "kernelspec": {
   "display_name": "Python 3 (ipykernel)",
   "language": "python",
   "name": "python3"
  },
  "language_info": {
   "codemirror_mode": {
    "name": "ipython",
    "version": 3
   },
   "file_extension": ".py",
   "mimetype": "text/x-python",
   "name": "python",
   "nbconvert_exporter": "python",
   "pygments_lexer": "ipython3",
   "version": "3.10.6"
  }
 },
 "nbformat": 4,
 "nbformat_minor": 5
}
